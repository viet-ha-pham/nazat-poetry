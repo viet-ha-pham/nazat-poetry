{
 "cells": [
  {
   "cell_type": "code",
   "execution_count": 1,
   "id": "4899440e",
   "metadata": {},
   "outputs": [],
   "source": [
    "def nazat_word(w):\n",
    "    w = w.lower()\n",
    "    w = w[::-1]\n",
    "    \n",
    "    w = w.replace(\"à\",\"af\")\n",
    "    w = w.replace(\"á\",\"as\")\n",
    "    w = w.replace(\"ả\",\"ar\")\n",
    "    w = w.replace(\"ã\",\"ax\")\n",
    "    w = w.replace(\"ạ\",\"aj\")\n",
    "    w = w.replace(\"ă\",\"aw\")\n",
    "    w = w.replace(\"ằ\",\"awf\")\n",
    "    w = w.replace(\"ắ\",\"aws\")\n",
    "    w = w.replace(\"ẳ\",\"awr\")\n",
    "    w = w.replace(\"ẵ\",\"awx\")\n",
    "    w = w.replace(\"ặ\",\"awj\")\n",
    "    w = w.replace(\"â\",\"aa\")\n",
    "    w = w.replace(\"ầ\",\"aaf\")\n",
    "    w = w.replace(\"ấ\",\"aas\")\n",
    "    w = w.replace(\"ẩ\",\"aar\")\n",
    "    w = w.replace(\"ẫ\",\"aax\")\n",
    "    w = w.replace(\"ậ\",\"aaj\")\n",
    "    w = w.replace(\"è\",\"ef\")\n",
    "    w = w.replace(\"é\",\"es\")\n",
    "    w = w.replace(\"ẻ\",\"er\")\n",
    "    w = w.replace(\"ẽ\",\"ex\")\n",
    "    w = w.replace(\"ẹ\",\"ej\")\n",
    "    w = w.replace(\"ê\",\"ee\")\n",
    "    w = w.replace(\"ề\",\"eef\")\n",
    "    w = w.replace(\"ế\",\"ees\")\n",
    "    w = w.replace(\"ể\",\"eer\")\n",
    "    w = w.replace(\"ễ\",\"eex\")\n",
    "    w = w.replace(\"ệ\",\"eej\")\n",
    "    w = w.replace(\"ì\",\"if\")\n",
    "    w = w.replace(\"í\",\"is\")\n",
    "    w = w.replace(\"ỉ\",\"ir\")\n",
    "    w = w.replace(\"ĩ\",\"ix\")\n",
    "    w = w.replace(\"ị\",\"ij\")\n",
    "    w = w.replace(\"ò\",\"of\")\n",
    "    w = w.replace(\"ó\",\"os\")\n",
    "    w = w.replace(\"ỏ\",\"or\")\n",
    "    w = w.replace(\"õ\",\"ox\")\n",
    "    w = w.replace(\"ọ\",\"oj\")\n",
    "    w = w.replace(\"ô\",\"oo\")\n",
    "    w = w.replace(\"ồ\",\"oof\")\n",
    "    w = w.replace(\"ố\",\"oos\")\n",
    "    w = w.replace(\"ổ\",\"oor\")\n",
    "    w = w.replace(\"ỗ\",\"oox\")\n",
    "    w = w.replace(\"ộ\",\"ooj\")\n",
    "    w = w.replace(\"ơ\",\"ow\")\n",
    "    w = w.replace(\"ờ\",\"owf\")\n",
    "    w = w.replace(\"ớ\",\"ows\")\n",
    "    w = w.replace(\"ở\",\"owr\")\n",
    "    w = w.replace(\"ỡ\",\"owx\")\n",
    "    w = w.replace(\"ợ\",\"owj\")\n",
    "    w = w.replace(\"ù\",\"uf\")\n",
    "    w = w.replace(\"ú\",\"us\")\n",
    "    w = w.replace(\"ủ\",\"ur\")\n",
    "    w = w.replace(\"ũ\",\"ux\")\n",
    "    w = w.replace(\"ụ\",\"uj\")\n",
    "    w = w.replace(\"ư\",\"uw\")\n",
    "    w = w.replace(\"ừ\",\"uwf\")\n",
    "    w = w.replace(\"ứ\",\"uws\")\n",
    "    w = w.replace(\"ử\",\"uwr\")\n",
    "    w = w.replace(\"ữ\",\"uwx\")\n",
    "    w = w.replace(\"ự\",\"uwj\")\n",
    "    w = w.replace(\"ỳ\",\"yf\")\n",
    "    w = w.replace(\"ý\",\"ys\")\n",
    "    w = w.replace(\"ỷ\",\"yr\")\n",
    "    w = w.replace(\"ỹ\",\"yx\")\n",
    "    w = w.replace(\"ỵ\",\"yj\")\n",
    "    w = w.replace(\"đ\",\"dd\")\n",
    "    w = w.replace(\"x\",\"s\")\n",
    "    w = w.replace(\"uq\",\"w\")\n",
    "    \n",
    "    chars = []\n",
    "    vowels = \"aeiou\"\n",
    "    chars.append(w[0])\n",
    "    for i in range(1, len(w)):\n",
    "        if (w[i-1] in vowels and w[i] not in vowels) or (w[i-1] not in vowels and w[i] in vowels):\n",
    "            chars.append(w[i])\n",
    "        elif w[i-1] in vowels and w[i] in vowels:\n",
    "            chars.append(\"z\")\n",
    "            chars.append(w[i])\n",
    "        elif w[i-1] not in vowels and w[i] not in vowels:\n",
    "            chars.append(\"a\")\n",
    "            chars.append(w[i])\n",
    "            \n",
    "    if chars[-1] in \"bdfghjlqrvwz\":\n",
    "        return \"\".join(chars) + \"e\"\n",
    "    if chars[-1] in \"cx\":\n",
    "        return \"\".join(chars)[:len(chars)-1] + \"k\"\n",
    "    \n",
    "    return \"\".join(chars)"
   ]
  },
  {
   "cell_type": "code",
   "execution_count": 2,
   "id": "606b5203",
   "metadata": {},
   "outputs": [
    {
     "data": {
      "text/plain": [
       "'azurak'"
      ]
     },
     "execution_count": 2,
     "metadata": {},
     "output_type": "execute_result"
    }
   ],
   "source": [
    "nazat_word(\"của\")"
   ]
  },
  {
   "cell_type": "code",
   "execution_count": 3,
   "id": "51380fa7",
   "metadata": {},
   "outputs": [],
   "source": [
    "def trans_nazat(txt):\n",
    "    return \" \".join(nazat_word(w) for w in txt.split())"
   ]
  },
  {
   "cell_type": "code",
   "execution_count": 4,
   "id": "a32d2bc6",
   "metadata": {},
   "outputs": [
    {
     "data": {
      "text/plain": [
       "'nowadade narige'"
      ]
     },
     "execution_count": 4,
     "metadata": {},
     "output_type": "execute_result"
    }
   ],
   "source": [
    "trans_nazat(\"đơn giản\")"
   ]
  },
  {
   "cell_type": "code",
   "execution_count": 5,
   "id": "7405b6a5",
   "metadata": {},
   "outputs": [],
   "source": [
    "def break_paragraph(paragraph):\n",
    "    words = paragraph.split() \n",
    "\n",
    "    lines = []\n",
    "    current_line = \"\"\n",
    "\n",
    "    for word in words:\n",
    "        if len(current_line + word) <= 20: \n",
    "            current_line += word + \" \"\n",
    "        else:\n",
    "            lines.append(current_line.strip()) \n",
    "            current_line = word + \" \"\n",
    "\n",
    "    if current_line:\n",
    "        lines.append(current_line.strip())\n",
    "\n",
    "    return \"\\n\".join([l[0].upper() + l[1:] for l in lines])"
   ]
  },
  {
   "cell_type": "code",
   "execution_count": 6,
   "id": "39e60098",
   "metadata": {},
   "outputs": [],
   "source": [
    "def trans_nazat_poetry(txt):\n",
    "    trans = \" \".join(nazat_word(w) for w in txt.split())\n",
    "    return break_paragraph(trans)"
   ]
  },
  {
   "cell_type": "code",
   "execution_count": 7,
   "id": "c5e9324a",
   "metadata": {},
   "outputs": [
    {
     "name": "stdout",
     "output_type": "stream",
     "text": [
      "Mozohe yan ganusak\n",
      "Ganozosige mozohe\n",
      "Awe ganawarahak iza\n",
      "Osak ezerahat izasam\n",
      "Afam hanarahat\n",
      "Izowahat izarohat\n",
      "Izasam cowajuwadade\n",
      "Uzazale uzazadade\n"
     ]
    }
   ],
   "source": [
    "poem= \"\"\"hôm nay cũng giống hôm qua\n",
    "chẳng ai có thể mãi mà thảnh thơi thoải mái được lâu đâu\"\"\"\n",
    "print(trans_nazat_poetry(poem))"
   ]
  }
 ],
 "metadata": {
  "kernelspec": {
   "display_name": "Python 3 (ipykernel)",
   "language": "python",
   "name": "python3"
  },
  "language_info": {
   "codemirror_mode": {
    "name": "ipython",
    "version": 3
   },
   "file_extension": ".py",
   "mimetype": "text/x-python",
   "name": "python",
   "nbconvert_exporter": "python",
   "pygments_lexer": "ipython3",
   "version": "3.9.12"
  }
 },
 "nbformat": 4,
 "nbformat_minor": 5
}
